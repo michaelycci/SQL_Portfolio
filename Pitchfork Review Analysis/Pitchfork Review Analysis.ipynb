{
 "cells": [
  {
   "cell_type": "markdown",
   "id": "a7919693-7db7-475b-a758-cd1ed05cf00c",
   "metadata": {},
   "source": [
    "# Analysis of Pitchfork Reviews from 1999 to 2016"
   ]
  },
  {
   "cell_type": "markdown",
   "id": "73c0e76b-6150-4f07-9ef7-b5ea3dbcb808",
   "metadata": {},
   "source": [
    "## The Data"
   ]
  },
  {
   "cell_type": "markdown",
   "id": "9c84bb65-e249-4278-b4a1-f0616c2afb30",
   "metadata": {},
   "source": [
    "A database provided by Nolan Conway on Kaggle documents 18,393 Pitchfork reviews ranging from January 5, 1999 to January 8, 2017. The data for each review includes the title, release year, and artist associated with each album as well as the body of the review among other information.\n",
    "    \n",
    "Some questions I hope to answer through this analysis are as follows:\n",
    "    \n",
    "1. Which genres are most and least favored by reviewers?\n",
    "2. Is there a strong association between release year and average review score? If so, does the popular belief that the best music came out in 2016 hold up?\n",
    "3. Is there a strong association between the average review score and the time of year the review was posted?"
   ]
  },
  {
   "cell_type": "markdown",
   "id": "e55bda7f-9587-48eb-95b5-58a7a79d2b0d",
   "metadata": {},
   "source": [
    "## Genre Favorability"
   ]
  },
  {
   "cell_type": "markdown",
   "id": "b670f5ee-bfe6-4672-b411-fbf2e7c9fdb4",
   "metadata": {},
   "source": [
    "A reader of Pitchfork magazine may associate the publication primarily with alternative, pop, and hip-hop music. Pitchfork reviews span many genres, but if the majority of readers favor specific genres, it stands to reason that these genres may receive higher ratings on average. It is also worth noting that the most recent review in this data set is nine years old, making any conclusions potentially outdated. "
   ]
  },
  {
   "cell_type": "code",
   "execution_count": 1,
   "id": "f4b3f7ee-3a86-4ccf-a1a4-9cf3c82998d6",
   "metadata": {},
   "outputs": [
    {
     "data": {
      "text/html": [
       "<span style=\"None\">Connecting to &#x27;duckdb:///pitchfork_reviews.sqlite&#x27;</span>"
      ],
      "text/plain": [
       "Connecting to 'duckdb:///pitchfork_reviews.sqlite'"
      ]
     },
     "metadata": {},
     "output_type": "display_data"
    }
   ],
   "source": [
    "%load_ext sql\n",
    "%sql duckdb:///pitchfork_reviews.sqlite"
   ]
  },
  {
   "cell_type": "code",
   "execution_count": 2,
   "id": "f20204a7-3249-4d93-b93f-bee596a809ae",
   "metadata": {},
   "outputs": [
    {
     "data": {
      "text/html": [
       "<span style=\"None\">Running query in &#x27;duckdb:///pitchfork_reviews.sqlite&#x27;</span>"
      ],
      "text/plain": [
       "Running query in 'duckdb:///pitchfork_reviews.sqlite'"
      ]
     },
     "metadata": {},
     "output_type": "display_data"
    },
    {
     "data": {
      "text/html": [
       "<table>\n",
       "    <thead>\n",
       "        <tr>\n",
       "            <th>genre</th>\n",
       "            <th>avg_score</th>\n",
       "        </tr>\n",
       "    </thead>\n",
       "    <tbody>\n",
       "        <tr>\n",
       "            <td>global</td>\n",
       "            <td>7.43</td>\n",
       "        </tr>\n",
       "        <tr>\n",
       "            <td>experimental</td>\n",
       "            <td>7.34</td>\n",
       "        </tr>\n",
       "        <tr>\n",
       "            <td>jazz</td>\n",
       "            <td>7.3</td>\n",
       "        </tr>\n",
       "        <tr>\n",
       "            <td>folk/country</td>\n",
       "            <td>7.2</td>\n",
       "        </tr>\n",
       "        <tr>\n",
       "            <td>metal</td>\n",
       "            <td>6.95</td>\n",
       "        </tr>\n",
       "        <tr>\n",
       "            <td>rock</td>\n",
       "            <td>6.94</td>\n",
       "        </tr>\n",
       "        <tr>\n",
       "            <td>electronic</td>\n",
       "            <td>6.92</td>\n",
       "        </tr>\n",
       "        <tr>\n",
       "            <td>rap</td>\n",
       "            <td>6.9</td>\n",
       "        </tr>\n",
       "        <tr>\n",
       "            <td>pop/r&b</td>\n",
       "            <td>6.88</td>\n",
       "        </tr>\n",
       "    </tbody>\n",
       "</table>"
      ],
      "text/plain": [
       "+--------------+-----------+\n",
       "|    genre     | avg_score |\n",
       "+--------------+-----------+\n",
       "|    global    |    7.43   |\n",
       "| experimental |    7.34   |\n",
       "|     jazz     |    7.3    |\n",
       "| folk/country |    7.2    |\n",
       "|    metal     |    6.95   |\n",
       "|     rock     |    6.94   |\n",
       "|  electronic  |    6.92   |\n",
       "|     rap      |    6.9    |\n",
       "|   pop/r&b    |    6.88   |\n",
       "+--------------+-----------+"
      ]
     },
     "execution_count": 2,
     "metadata": {},
     "output_type": "execute_result"
    }
   ],
   "source": [
    "%%sql\n",
    "SELECT genres.genre, ROUND(AVG(reviews.score),2) as avg_score\n",
    "    FROM genres\n",
    "    JOIN reviews\n",
    "    ON genres.reviewid = reviews.reviewid\n",
    "    WHERE genres.genre IS NOT NULL\n",
    "    GROUP BY genres.genre\n",
    "    ORDER BY avg_score DESC;"
   ]
  },
  {
   "cell_type": "markdown",
   "id": "2d7e4b32-8624-4010-8f42-a5367aea1631",
   "metadata": {},
   "source": [
    "As shown above, the genres with the highest average rating are global, experimental, and jazz, despite our initial assumption. Perhaps displaying the quantity of reviews corresponding to each genre will show a different trend."
   ]
  },
  {
   "cell_type": "code",
   "execution_count": 3,
   "id": "960e3473-834d-4990-9f33-a2569e371efe",
   "metadata": {},
   "outputs": [
    {
     "data": {
      "text/html": [
       "<span style=\"None\">Running query in &#x27;duckdb:///pitchfork_reviews.sqlite&#x27;</span>"
      ],
      "text/plain": [
       "Running query in 'duckdb:///pitchfork_reviews.sqlite'"
      ]
     },
     "metadata": {},
     "output_type": "display_data"
    },
    {
     "data": {
      "text/html": [
       "<table>\n",
       "    <thead>\n",
       "        <tr>\n",
       "            <th>genre</th>\n",
       "            <th>num_reviewed</th>\n",
       "        </tr>\n",
       "    </thead>\n",
       "    <tbody>\n",
       "        <tr>\n",
       "            <td>rock</td>\n",
       "            <td>9436</td>\n",
       "        </tr>\n",
       "        <tr>\n",
       "            <td>electronic</td>\n",
       "            <td>3874</td>\n",
       "        </tr>\n",
       "        <tr>\n",
       "            <td>experimental</td>\n",
       "            <td>1815</td>\n",
       "        </tr>\n",
       "        <tr>\n",
       "            <td>rap</td>\n",
       "            <td>1559</td>\n",
       "        </tr>\n",
       "        <tr>\n",
       "            <td>pop/r&b</td>\n",
       "            <td>1432</td>\n",
       "        </tr>\n",
       "        <tr>\n",
       "            <td>metal</td>\n",
       "            <td>860</td>\n",
       "        </tr>\n",
       "        <tr>\n",
       "            <td>folk/country</td>\n",
       "            <td>685</td>\n",
       "        </tr>\n",
       "        <tr>\n",
       "            <td>jazz</td>\n",
       "            <td>435</td>\n",
       "        </tr>\n",
       "        <tr>\n",
       "            <td>global</td>\n",
       "            <td>217</td>\n",
       "        </tr>\n",
       "    </tbody>\n",
       "</table>"
      ],
      "text/plain": [
       "+--------------+--------------+\n",
       "|    genre     | num_reviewed |\n",
       "+--------------+--------------+\n",
       "|     rock     |     9436     |\n",
       "|  electronic  |     3874     |\n",
       "| experimental |     1815     |\n",
       "|     rap      |     1559     |\n",
       "|   pop/r&b    |     1432     |\n",
       "|    metal     |     860      |\n",
       "| folk/country |     685      |\n",
       "|     jazz     |     435      |\n",
       "|    global    |     217      |\n",
       "+--------------+--------------+"
      ]
     },
     "execution_count": 3,
     "metadata": {},
     "output_type": "execute_result"
    }
   ],
   "source": [
    "%%sql\n",
    "SELECT genre, COUNT(*) as num_reviewed\n",
    "    FROM genres\n",
    "    WHERE genre IS NOT NULL\n",
    "    GROUP BY genre\n",
    "    ORDER BY num_reviewed DESC;"
   ]
  },
  {
   "cell_type": "markdown",
   "id": "9f30ab66-c1ce-444e-9ba3-d94dfda4ae06",
   "metadata": {},
   "source": [
    "Now we can see results that align more closely with our expectation. Poor genre specificity is a price one must pay for clean categorization, but we can reasonably associate our expected genres with rock, experimental, rap, and pop/r&b. Our results show that these genres place in the top 5. We also see that global music, which is the highest rated on average, is the least commonly reviewed. Its making up such a small portion of the dataset explains its unexpectedly high rating in the previous results."
   ]
  },
  {
   "cell_type": "markdown",
   "id": "64307d28-3966-44df-bb84-1846a2ec3458",
   "metadata": {},
   "source": [
    "## Ratings by Year"
   ]
  },
  {
   "cell_type": "markdown",
   "id": "54328eda-33d9-4473-9593-a542f8916849",
   "metadata": {},
   "source": [
    "Every year when Grammy season rolls around, there is discussion regarding the overall quality of the music released in the past year. Many of us have our own opinions about which years are the \"good years.\" It is a popular sentiment among millennials and some gen-z that 2016 was a particularly impressive year in the music sphere. While we cannot analyze the years following 2016, we can at least see how Pitchfork authors rated the music of the years leading up, and how 2016 ranks among them."
   ]
  },
  {
   "cell_type": "code",
   "execution_count": 5,
   "id": "153dde3a-fb55-4108-94ed-c751779a7fb6",
   "metadata": {},
   "outputs": [
    {
     "data": {
      "text/html": [
       "<span style=\"None\">Running query in &#x27;duckdb:///pitchfork_reviews.sqlite&#x27;</span>"
      ],
      "text/plain": [
       "Running query in 'duckdb:///pitchfork_reviews.sqlite'"
      ]
     },
     "metadata": {},
     "output_type": "display_data"
    },
    {
     "data": {
      "text/html": [
       "<table>\n",
       "    <thead>\n",
       "        <tr>\n",
       "            <th>year</th>\n",
       "            <th>avg_score</th>\n",
       "            <th>num_reviews</th>\n",
       "            <th>num_perfect_scores</th>\n",
       "        </tr>\n",
       "    </thead>\n",
       "    <tbody>\n",
       "        <tr>\n",
       "            <td>1999</td>\n",
       "            <td>7.29</td>\n",
       "            <td>116</td>\n",
       "            <td>1</td>\n",
       "        </tr>\n",
       "        <tr>\n",
       "            <td>2004</td>\n",
       "            <td>7.2</td>\n",
       "            <td>1046</td>\n",
       "            <td>5</td>\n",
       "        </tr>\n",
       "        <tr>\n",
       "            <td>2016</td>\n",
       "            <td>7.19</td>\n",
       "            <td>1205</td>\n",
       "            <td>3</td>\n",
       "        </tr>\n",
       "        <tr>\n",
       "            <td>2015</td>\n",
       "            <td>7.1</td>\n",
       "            <td>1153</td>\n",
       "            <td>5</td>\n",
       "        </tr>\n",
       "        <tr>\n",
       "            <td>2014</td>\n",
       "            <td>7.09</td>\n",
       "            <td>1134</td>\n",
       "            <td>4</td>\n",
       "        </tr>\n",
       "        <tr>\n",
       "            <td>2013</td>\n",
       "            <td>7.05</td>\n",
       "            <td>1200</td>\n",
       "            <td>4</td>\n",
       "        </tr>\n",
       "        <tr>\n",
       "            <td>2011</td>\n",
       "            <td>7.04</td>\n",
       "            <td>1140</td>\n",
       "            <td>5</td>\n",
       "        </tr>\n",
       "        <tr>\n",
       "            <td>2005</td>\n",
       "            <td>7.04</td>\n",
       "            <td>1216</td>\n",
       "            <td>3</td>\n",
       "        </tr>\n",
       "        <tr>\n",
       "            <td>2000</td>\n",
       "            <td>7.03</td>\n",
       "            <td>220</td>\n",
       "            <td>2</td>\n",
       "        </tr>\n",
       "        <tr>\n",
       "            <td>2001</td>\n",
       "            <td>7.02</td>\n",
       "            <td>579</td>\n",
       "            <td>1</td>\n",
       "        </tr>\n",
       "    </tbody>\n",
       "</table>\n",
       "<span style=\"font-style:italic;text-align:center;\">Truncated to <a href=\"https://jupysql.ploomber.io/en/latest/api/configuration.html#displaylimit\">displaylimit</a> of 10.</span>"
      ],
      "text/plain": [
       "+------+-----------+-------------+--------------------+\n",
       "| year | avg_score | num_reviews | num_perfect_scores |\n",
       "+------+-----------+-------------+--------------------+\n",
       "| 1999 |    7.29   |     116     |         1          |\n",
       "| 2004 |    7.2    |     1046    |         5          |\n",
       "| 2016 |    7.19   |     1205    |         3          |\n",
       "| 2015 |    7.1    |     1153    |         5          |\n",
       "| 2014 |    7.09   |     1134    |         4          |\n",
       "| 2013 |    7.05   |     1200    |         4          |\n",
       "| 2011 |    7.04   |     1140    |         5          |\n",
       "| 2005 |    7.04   |     1216    |         3          |\n",
       "| 2000 |    7.03   |     220     |         2          |\n",
       "| 2001 |    7.02   |     579     |         1          |\n",
       "+------+-----------+-------------+--------------------+\n",
       "Truncated to displaylimit of 10."
      ]
     },
     "execution_count": 5,
     "metadata": {},
     "output_type": "execute_result"
    }
   ],
   "source": [
    "%%sql\n",
    "SELECT years.year, ROUND(AVG(reviews.score),2) as avg_score, COUNT(*) as num_reviews, \n",
    "    COUNT(CASE WHEN reviews.score = 10 THEN 1 END) as num_perfect_scores\n",
    "    FROM years\n",
    "    JOIN reviews\n",
    "    ON years.reviewid = reviews.reviewid\n",
    "    WHERE years.year>=1999 AND years.year<2017\n",
    "    GROUP BY years.year\n",
    "    ORDER BY avg_score DESC;"
   ]
  },
  {
   "cell_type": "markdown",
   "id": "f22220b6-a1ae-4210-8da1-a3225929ccfb",
   "metadata": {},
   "source": [
    "The data show the highest average scores belonging to 1999, 2004, and 2016. It appears Pitchfork authors agree with the internet here. It is worth noting the significantly low number of reviews for the year 1999, making its place at number one dubious. Interestingly, there does not seem to be a strong relationship between the average score for a given year and the number of perfect scores given during that year, shown above as num_perfect_scores."
   ]
  },
  {
   "cell_type": "markdown",
   "id": "c9b39707-c526-42c3-b6ac-fd4b450fd2cd",
   "metadata": {},
   "source": [
    "## Ratings by Month"
   ]
  },
  {
   "cell_type": "markdown",
   "id": "1119a18c-2dd8-49be-a2f3-5910a31465fc",
   "metadata": {},
   "source": [
    "Most of us would probably say that our mood varies from month to month. Many people are happiest in the summer and during the holidays, though this is not true for everyone. Can we see this intuitive trend reflected in the average rating given by Pitchfork authors each month? Alternatively, will we see trends that follow more closely with the typical artist release schedule? It may even be the case that the highest rated months would be those with the fewest new releases, as this is when authors would be more likely to review their old favorites. In that case, we can expect peaks during the holidays and in late winter to spring. "
   ]
  },
  {
   "cell_type": "code",
   "execution_count": 9,
   "id": "36fd00f3-f708-4a7e-b148-711d7edc9a71",
   "metadata": {},
   "outputs": [
    {
     "data": {
      "text/html": [
       "<span style=\"None\">displaylimit: Value None will be treated as 0 (no limit)</span>"
      ],
      "text/plain": [
       "displaylimit: Value None will be treated as 0 (no limit)"
      ]
     },
     "metadata": {},
     "output_type": "display_data"
    }
   ],
   "source": [
    "%config SqlMagic.displaylimit = None"
   ]
  },
  {
   "cell_type": "code",
   "execution_count": 11,
   "id": "3eefa2bb-fbe4-4e12-9a79-918e69dc743c",
   "metadata": {},
   "outputs": [
    {
     "data": {
      "text/html": [
       "<span style=\"None\">Running query in &#x27;duckdb:///pitchfork_reviews.sqlite&#x27;</span>"
      ],
      "text/plain": [
       "Running query in 'duckdb:///pitchfork_reviews.sqlite'"
      ]
     },
     "metadata": {},
     "output_type": "display_data"
    },
    {
     "data": {
      "text/html": [
       "<table>\n",
       "    <thead>\n",
       "        <tr>\n",
       "            <th>pub_month</th>\n",
       "            <th>avg_score</th>\n",
       "        </tr>\n",
       "    </thead>\n",
       "    <tbody>\n",
       "        <tr>\n",
       "            <td>1</td>\n",
       "            <td>7.01</td>\n",
       "        </tr>\n",
       "        <tr>\n",
       "            <td>2</td>\n",
       "            <td>6.99</td>\n",
       "        </tr>\n",
       "        <tr>\n",
       "            <td>3</td>\n",
       "            <td>6.98</td>\n",
       "        </tr>\n",
       "        <tr>\n",
       "            <td>4</td>\n",
       "            <td>6.94</td>\n",
       "        </tr>\n",
       "        <tr>\n",
       "            <td>5</td>\n",
       "            <td>7.04</td>\n",
       "        </tr>\n",
       "        <tr>\n",
       "            <td>6</td>\n",
       "            <td>6.97</td>\n",
       "        </tr>\n",
       "        <tr>\n",
       "            <td>7</td>\n",
       "            <td>6.96</td>\n",
       "        </tr>\n",
       "        <tr>\n",
       "            <td>8</td>\n",
       "            <td>6.97</td>\n",
       "        </tr>\n",
       "        <tr>\n",
       "            <td>9</td>\n",
       "            <td>7.04</td>\n",
       "        </tr>\n",
       "        <tr>\n",
       "            <td>10</td>\n",
       "            <td>7.08</td>\n",
       "        </tr>\n",
       "        <tr>\n",
       "            <td>11</td>\n",
       "            <td>7.04</td>\n",
       "        </tr>\n",
       "        <tr>\n",
       "            <td>12</td>\n",
       "            <td>7.08</td>\n",
       "        </tr>\n",
       "    </tbody>\n",
       "</table>"
      ],
      "text/plain": [
       "+-----------+-----------+\n",
       "| pub_month | avg_score |\n",
       "+-----------+-----------+\n",
       "|     1     |    7.01   |\n",
       "|     2     |    6.99   |\n",
       "|     3     |    6.98   |\n",
       "|     4     |    6.94   |\n",
       "|     5     |    7.04   |\n",
       "|     6     |    6.97   |\n",
       "|     7     |    6.96   |\n",
       "|     8     |    6.97   |\n",
       "|     9     |    7.04   |\n",
       "|     10    |    7.08   |\n",
       "|     11    |    7.04   |\n",
       "|     12    |    7.08   |\n",
       "+-----------+-----------+"
      ]
     },
     "execution_count": 11,
     "metadata": {},
     "output_type": "execute_result"
    }
   ],
   "source": [
    "%%sql\n",
    "SELECT pub_month, ROUND(AVG(score),2) as avg_score\n",
    "    FROM reviews\n",
    "    GROUP BY pub_month\n",
    "    ORDER BY pub_month;"
   ]
  },
  {
   "cell_type": "markdown",
   "id": "98a1de4a-eca8-4786-9c0b-740660b85a86",
   "metadata": {},
   "source": [
    "The variability between months is not great, but there are peaks in May, October, and December. These months align with the beginning of summer and the holiday season in The United States. More research is necessary to support the idea that these are times when people are generally happier, but the above data may reflect monthly trends in happiness. There are likely many factors at play."
   ]
  }
 ],
 "metadata": {
  "kernelspec": {
   "display_name": "Python 3 (ipykernel)",
   "language": "python",
   "name": "python3"
  },
  "language_info": {
   "codemirror_mode": {
    "name": "ipython",
    "version": 3
   },
   "file_extension": ".py",
   "mimetype": "text/x-python",
   "name": "python",
   "nbconvert_exporter": "python",
   "pygments_lexer": "ipython3",
   "version": "3.12.0"
  }
 },
 "nbformat": 4,
 "nbformat_minor": 5
}
